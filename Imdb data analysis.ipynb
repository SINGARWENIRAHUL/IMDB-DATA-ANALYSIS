{
 "cells": [
  {
   "cell_type": "code",
   "execution_count": 1,
   "id": "bbc74417-8a2c-4b61-bbbf-1323a1760b80",
   "metadata": {},
   "outputs": [],
   "source": [
    "import pandas as pd"
   ]
  },
  {
   "cell_type": "code",
   "execution_count": 2,
   "id": "3734d5b6-7fc9-474b-9401-8e4f3ffa0aa1",
   "metadata": {},
   "outputs": [],
   "source": [
    "#READING THE MOVIES DATASET"
   ]
  },
  {
   "cell_type": "code",
   "execution_count": 5,
   "id": "2b034ef8-82a6-435c-832c-086cbc12f20b",
   "metadata": {},
   "outputs": [],
   "source": [
    "movies = pd.read_csv(r\"C:\\Users\\Dell\\Downloads\\archive\\movies.csv\")"
   ]
  },
  {
   "cell_type": "code",
   "execution_count": 7,
   "id": "824f1533-41fe-4093-86f7-dda25f68b59e",
   "metadata": {},
   "outputs": [
    {
     "data": {
      "text/html": [
       "<div>\n",
       "<style scoped>\n",
       "    .dataframe tbody tr th:only-of-type {\n",
       "        vertical-align: middle;\n",
       "    }\n",
       "\n",
       "    .dataframe tbody tr th {\n",
       "        vertical-align: top;\n",
       "    }\n",
       "\n",
       "    .dataframe thead th {\n",
       "        text-align: right;\n",
       "    }\n",
       "</style>\n",
       "<table border=\"1\" class=\"dataframe\">\n",
       "  <thead>\n",
       "    <tr style=\"text-align: right;\">\n",
       "      <th></th>\n",
       "      <th>movieId</th>\n",
       "      <th>title</th>\n",
       "      <th>genres</th>\n",
       "    </tr>\n",
       "  </thead>\n",
       "  <tbody>\n",
       "    <tr>\n",
       "      <th>0</th>\n",
       "      <td>1</td>\n",
       "      <td>Toy Story (1995)</td>\n",
       "      <td>Adventure|Animation|Children|Comedy|Fantasy</td>\n",
       "    </tr>\n",
       "    <tr>\n",
       "      <th>1</th>\n",
       "      <td>2</td>\n",
       "      <td>Jumanji (1995)</td>\n",
       "      <td>Adventure|Children|Fantasy</td>\n",
       "    </tr>\n",
       "    <tr>\n",
       "      <th>2</th>\n",
       "      <td>3</td>\n",
       "      <td>Grumpier Old Men (1995)</td>\n",
       "      <td>Comedy|Romance</td>\n",
       "    </tr>\n",
       "    <tr>\n",
       "      <th>3</th>\n",
       "      <td>4</td>\n",
       "      <td>Waiting to Exhale (1995)</td>\n",
       "      <td>Comedy|Drama|Romance</td>\n",
       "    </tr>\n",
       "    <tr>\n",
       "      <th>4</th>\n",
       "      <td>5</td>\n",
       "      <td>Father of the Bride Part II (1995)</td>\n",
       "      <td>Comedy</td>\n",
       "    </tr>\n",
       "    <tr>\n",
       "      <th>...</th>\n",
       "      <td>...</td>\n",
       "      <td>...</td>\n",
       "      <td>...</td>\n",
       "    </tr>\n",
       "    <tr>\n",
       "      <th>45838</th>\n",
       "      <td>176269</td>\n",
       "      <td>Subdue</td>\n",
       "      <td>Children|Drama</td>\n",
       "    </tr>\n",
       "    <tr>\n",
       "      <th>45839</th>\n",
       "      <td>176271</td>\n",
       "      <td>Century of Birthing (2011)</td>\n",
       "      <td>Drama</td>\n",
       "    </tr>\n",
       "    <tr>\n",
       "      <th>45840</th>\n",
       "      <td>176273</td>\n",
       "      <td>Betrayal (2003)</td>\n",
       "      <td>Action|Drama|Thriller</td>\n",
       "    </tr>\n",
       "    <tr>\n",
       "      <th>45841</th>\n",
       "      <td>176275</td>\n",
       "      <td>Satan Triumphant (1917)</td>\n",
       "      <td>(no genres listed)</td>\n",
       "    </tr>\n",
       "    <tr>\n",
       "      <th>45842</th>\n",
       "      <td>176279</td>\n",
       "      <td>Queerama (2017)</td>\n",
       "      <td>(no genres listed)</td>\n",
       "    </tr>\n",
       "  </tbody>\n",
       "</table>\n",
       "<p>45843 rows × 3 columns</p>\n",
       "</div>"
      ],
      "text/plain": [
       "       movieId                               title  \\\n",
       "0            1                    Toy Story (1995)   \n",
       "1            2                      Jumanji (1995)   \n",
       "2            3             Grumpier Old Men (1995)   \n",
       "3            4            Waiting to Exhale (1995)   \n",
       "4            5  Father of the Bride Part II (1995)   \n",
       "...        ...                                 ...   \n",
       "45838   176269                              Subdue   \n",
       "45839   176271          Century of Birthing (2011)   \n",
       "45840   176273                     Betrayal (2003)   \n",
       "45841   176275             Satan Triumphant (1917)   \n",
       "45842   176279                     Queerama (2017)   \n",
       "\n",
       "                                            genres  \n",
       "0      Adventure|Animation|Children|Comedy|Fantasy  \n",
       "1                       Adventure|Children|Fantasy  \n",
       "2                                   Comedy|Romance  \n",
       "3                             Comedy|Drama|Romance  \n",
       "4                                           Comedy  \n",
       "...                                            ...  \n",
       "45838                               Children|Drama  \n",
       "45839                                        Drama  \n",
       "45840                        Action|Drama|Thriller  \n",
       "45841                           (no genres listed)  \n",
       "45842                           (no genres listed)  \n",
       "\n",
       "[45843 rows x 3 columns]"
      ]
     },
     "execution_count": 7,
     "metadata": {},
     "output_type": "execute_result"
    }
   ],
   "source": [
    "movies"
   ]
  },
  {
   "cell_type": "code",
   "execution_count": 9,
   "id": "4ac8710a-e6b1-4c20-87d9-6b77ab1a1961",
   "metadata": {},
   "outputs": [],
   "source": [
    "#CHECKING THE TYPE OF THE DATASET"
   ]
  },
  {
   "cell_type": "code",
   "execution_count": 11,
   "id": "0c77f279-2928-4a2c-9fa5-db371e2d2c7b",
   "metadata": {},
   "outputs": [
    {
     "data": {
      "text/plain": [
       "pandas.core.frame.DataFrame"
      ]
     },
     "execution_count": 11,
     "metadata": {},
     "output_type": "execute_result"
    }
   ],
   "source": [
    "type(movies)"
   ]
  },
  {
   "cell_type": "code",
   "execution_count": 13,
   "id": "a8328826-3d49-4edf-8363-250dd9750450",
   "metadata": {},
   "outputs": [],
   "source": [
    "#PRINTING VALUES FROM THE DATASET  "
   ]
  },
  {
   "cell_type": "code",
   "execution_count": 15,
   "id": "197baea3-c989-49d1-b6f8-b67c5553e74e",
   "metadata": {},
   "outputs": [
    {
     "data": {
      "text/html": [
       "<div>\n",
       "<style scoped>\n",
       "    .dataframe tbody tr th:only-of-type {\n",
       "        vertical-align: middle;\n",
       "    }\n",
       "\n",
       "    .dataframe tbody tr th {\n",
       "        vertical-align: top;\n",
       "    }\n",
       "\n",
       "    .dataframe thead th {\n",
       "        text-align: right;\n",
       "    }\n",
       "</style>\n",
       "<table border=\"1\" class=\"dataframe\">\n",
       "  <thead>\n",
       "    <tr style=\"text-align: right;\">\n",
       "      <th></th>\n",
       "      <th>movieId</th>\n",
       "      <th>title</th>\n",
       "      <th>genres</th>\n",
       "    </tr>\n",
       "  </thead>\n",
       "  <tbody>\n",
       "    <tr>\n",
       "      <th>0</th>\n",
       "      <td>1</td>\n",
       "      <td>Toy Story (1995)</td>\n",
       "      <td>Adventure|Animation|Children|Comedy|Fantasy</td>\n",
       "    </tr>\n",
       "    <tr>\n",
       "      <th>1</th>\n",
       "      <td>2</td>\n",
       "      <td>Jumanji (1995)</td>\n",
       "      <td>Adventure|Children|Fantasy</td>\n",
       "    </tr>\n",
       "    <tr>\n",
       "      <th>2</th>\n",
       "      <td>3</td>\n",
       "      <td>Grumpier Old Men (1995)</td>\n",
       "      <td>Comedy|Romance</td>\n",
       "    </tr>\n",
       "    <tr>\n",
       "      <th>3</th>\n",
       "      <td>4</td>\n",
       "      <td>Waiting to Exhale (1995)</td>\n",
       "      <td>Comedy|Drama|Romance</td>\n",
       "    </tr>\n",
       "    <tr>\n",
       "      <th>4</th>\n",
       "      <td>5</td>\n",
       "      <td>Father of the Bride Part II (1995)</td>\n",
       "      <td>Comedy</td>\n",
       "    </tr>\n",
       "    <tr>\n",
       "      <th>5</th>\n",
       "      <td>6</td>\n",
       "      <td>Heat (1995)</td>\n",
       "      <td>Action|Crime|Thriller</td>\n",
       "    </tr>\n",
       "    <tr>\n",
       "      <th>6</th>\n",
       "      <td>7</td>\n",
       "      <td>Sabrina (1995)</td>\n",
       "      <td>Comedy|Romance</td>\n",
       "    </tr>\n",
       "    <tr>\n",
       "      <th>7</th>\n",
       "      <td>8</td>\n",
       "      <td>Tom and Huck (1995)</td>\n",
       "      <td>Adventure|Children</td>\n",
       "    </tr>\n",
       "    <tr>\n",
       "      <th>8</th>\n",
       "      <td>9</td>\n",
       "      <td>Sudden Death (1995)</td>\n",
       "      <td>Action</td>\n",
       "    </tr>\n",
       "    <tr>\n",
       "      <th>9</th>\n",
       "      <td>10</td>\n",
       "      <td>GoldenEye (1995)</td>\n",
       "      <td>Action|Adventure|Thriller</td>\n",
       "    </tr>\n",
       "    <tr>\n",
       "      <th>10</th>\n",
       "      <td>11</td>\n",
       "      <td>American President, The (1995)</td>\n",
       "      <td>Comedy|Drama|Romance</td>\n",
       "    </tr>\n",
       "    <tr>\n",
       "      <th>11</th>\n",
       "      <td>12</td>\n",
       "      <td>Dracula: Dead and Loving It (1995)</td>\n",
       "      <td>Comedy|Horror</td>\n",
       "    </tr>\n",
       "    <tr>\n",
       "      <th>12</th>\n",
       "      <td>13</td>\n",
       "      <td>Balto (1995)</td>\n",
       "      <td>Adventure|Animation|Children</td>\n",
       "    </tr>\n",
       "    <tr>\n",
       "      <th>13</th>\n",
       "      <td>14</td>\n",
       "      <td>Nixon (1995)</td>\n",
       "      <td>Drama</td>\n",
       "    </tr>\n",
       "    <tr>\n",
       "      <th>14</th>\n",
       "      <td>15</td>\n",
       "      <td>Cutthroat Island (1995)</td>\n",
       "      <td>Action|Adventure|Romance</td>\n",
       "    </tr>\n",
       "    <tr>\n",
       "      <th>15</th>\n",
       "      <td>16</td>\n",
       "      <td>Casino (1995)</td>\n",
       "      <td>Crime|Drama</td>\n",
       "    </tr>\n",
       "    <tr>\n",
       "      <th>16</th>\n",
       "      <td>17</td>\n",
       "      <td>Sense and Sensibility (1995)</td>\n",
       "      <td>Drama|Romance</td>\n",
       "    </tr>\n",
       "    <tr>\n",
       "      <th>17</th>\n",
       "      <td>18</td>\n",
       "      <td>Four Rooms (1995)</td>\n",
       "      <td>Comedy</td>\n",
       "    </tr>\n",
       "    <tr>\n",
       "      <th>18</th>\n",
       "      <td>19</td>\n",
       "      <td>Ace Ventura: When Nature Calls (1995)</td>\n",
       "      <td>Comedy</td>\n",
       "    </tr>\n",
       "    <tr>\n",
       "      <th>19</th>\n",
       "      <td>20</td>\n",
       "      <td>Money Train (1995)</td>\n",
       "      <td>Action|Comedy|Crime|Drama|Thriller</td>\n",
       "    </tr>\n",
       "  </tbody>\n",
       "</table>\n",
       "</div>"
      ],
      "text/plain": [
       "    movieId                                  title  \\\n",
       "0         1                       Toy Story (1995)   \n",
       "1         2                         Jumanji (1995)   \n",
       "2         3                Grumpier Old Men (1995)   \n",
       "3         4               Waiting to Exhale (1995)   \n",
       "4         5     Father of the Bride Part II (1995)   \n",
       "5         6                            Heat (1995)   \n",
       "6         7                         Sabrina (1995)   \n",
       "7         8                    Tom and Huck (1995)   \n",
       "8         9                    Sudden Death (1995)   \n",
       "9        10                       GoldenEye (1995)   \n",
       "10       11         American President, The (1995)   \n",
       "11       12     Dracula: Dead and Loving It (1995)   \n",
       "12       13                           Balto (1995)   \n",
       "13       14                           Nixon (1995)   \n",
       "14       15                Cutthroat Island (1995)   \n",
       "15       16                          Casino (1995)   \n",
       "16       17           Sense and Sensibility (1995)   \n",
       "17       18                      Four Rooms (1995)   \n",
       "18       19  Ace Ventura: When Nature Calls (1995)   \n",
       "19       20                     Money Train (1995)   \n",
       "\n",
       "                                         genres  \n",
       "0   Adventure|Animation|Children|Comedy|Fantasy  \n",
       "1                    Adventure|Children|Fantasy  \n",
       "2                                Comedy|Romance  \n",
       "3                          Comedy|Drama|Romance  \n",
       "4                                        Comedy  \n",
       "5                         Action|Crime|Thriller  \n",
       "6                                Comedy|Romance  \n",
       "7                            Adventure|Children  \n",
       "8                                        Action  \n",
       "9                     Action|Adventure|Thriller  \n",
       "10                         Comedy|Drama|Romance  \n",
       "11                                Comedy|Horror  \n",
       "12                 Adventure|Animation|Children  \n",
       "13                                        Drama  \n",
       "14                     Action|Adventure|Romance  \n",
       "15                                  Crime|Drama  \n",
       "16                                Drama|Romance  \n",
       "17                                       Comedy  \n",
       "18                                       Comedy  \n",
       "19           Action|Comedy|Crime|Drama|Thriller  "
      ]
     },
     "execution_count": 15,
     "metadata": {},
     "output_type": "execute_result"
    }
   ],
   "source": [
    "movies.head(20)"
   ]
  },
  {
   "cell_type": "code",
   "execution_count": 17,
   "id": "075d8c29-6764-4f68-9589-5cc1e1ac6a2c",
   "metadata": {},
   "outputs": [],
   "source": [
    "#READING THE TAGS DATASET"
   ]
  },
  {
   "cell_type": "code",
   "execution_count": 19,
   "id": "517dadd6-3e6b-43b1-a6dd-fdca8cc219c3",
   "metadata": {},
   "outputs": [],
   "source": [
    "tags = pd.read_csv(r\"C:\\Users\\Dell\\Downloads\\archive\\tags.csv\")"
   ]
  },
  {
   "cell_type": "code",
   "execution_count": 20,
   "id": "5b4c0a64-7961-45e5-a812-b5bf3af99132",
   "metadata": {},
   "outputs": [
    {
     "data": {
      "text/html": [
       "<div>\n",
       "<style scoped>\n",
       "    .dataframe tbody tr th:only-of-type {\n",
       "        vertical-align: middle;\n",
       "    }\n",
       "\n",
       "    .dataframe tbody tr th {\n",
       "        vertical-align: top;\n",
       "    }\n",
       "\n",
       "    .dataframe thead th {\n",
       "        text-align: right;\n",
       "    }\n",
       "</style>\n",
       "<table border=\"1\" class=\"dataframe\">\n",
       "  <thead>\n",
       "    <tr style=\"text-align: right;\">\n",
       "      <th></th>\n",
       "      <th>userId</th>\n",
       "      <th>movieId</th>\n",
       "      <th>tag</th>\n",
       "      <th>timestamp</th>\n",
       "    </tr>\n",
       "  </thead>\n",
       "  <tbody>\n",
       "    <tr>\n",
       "      <th>0</th>\n",
       "      <td>1</td>\n",
       "      <td>318</td>\n",
       "      <td>narrated</td>\n",
       "      <td>1425942391</td>\n",
       "    </tr>\n",
       "    <tr>\n",
       "      <th>1</th>\n",
       "      <td>20</td>\n",
       "      <td>4306</td>\n",
       "      <td>Dreamworks</td>\n",
       "      <td>1459855607</td>\n",
       "    </tr>\n",
       "    <tr>\n",
       "      <th>2</th>\n",
       "      <td>20</td>\n",
       "      <td>89302</td>\n",
       "      <td>England</td>\n",
       "      <td>1400778834</td>\n",
       "    </tr>\n",
       "    <tr>\n",
       "      <th>3</th>\n",
       "      <td>20</td>\n",
       "      <td>89302</td>\n",
       "      <td>espionage</td>\n",
       "      <td>1400778836</td>\n",
       "    </tr>\n",
       "    <tr>\n",
       "      <th>4</th>\n",
       "      <td>20</td>\n",
       "      <td>89302</td>\n",
       "      <td>jazz</td>\n",
       "      <td>1400778841</td>\n",
       "    </tr>\n",
       "    <tr>\n",
       "      <th>...</th>\n",
       "      <td>...</td>\n",
       "      <td>...</td>\n",
       "      <td>...</td>\n",
       "      <td>...</td>\n",
       "    </tr>\n",
       "    <tr>\n",
       "      <th>753165</th>\n",
       "      <td>270854</td>\n",
       "      <td>132046</td>\n",
       "      <td>ineffective</td>\n",
       "      <td>1435014552</td>\n",
       "    </tr>\n",
       "    <tr>\n",
       "      <th>753166</th>\n",
       "      <td>270854</td>\n",
       "      <td>132046</td>\n",
       "      <td>visually appealing</td>\n",
       "      <td>1435014664</td>\n",
       "    </tr>\n",
       "    <tr>\n",
       "      <th>753167</th>\n",
       "      <td>270871</td>\n",
       "      <td>296</td>\n",
       "      <td>drugs</td>\n",
       "      <td>1426975036</td>\n",
       "    </tr>\n",
       "    <tr>\n",
       "      <th>753168</th>\n",
       "      <td>270871</td>\n",
       "      <td>296</td>\n",
       "      <td>exciting</td>\n",
       "      <td>1426975036</td>\n",
       "    </tr>\n",
       "    <tr>\n",
       "      <th>753169</th>\n",
       "      <td>270871</td>\n",
       "      <td>296</td>\n",
       "      <td>violent</td>\n",
       "      <td>1426975036</td>\n",
       "    </tr>\n",
       "  </tbody>\n",
       "</table>\n",
       "<p>753170 rows × 4 columns</p>\n",
       "</div>"
      ],
      "text/plain": [
       "        userId  movieId                 tag   timestamp\n",
       "0            1      318            narrated  1425942391\n",
       "1           20     4306          Dreamworks  1459855607\n",
       "2           20    89302             England  1400778834\n",
       "3           20    89302           espionage  1400778836\n",
       "4           20    89302                jazz  1400778841\n",
       "...        ...      ...                 ...         ...\n",
       "753165  270854   132046         ineffective  1435014552\n",
       "753166  270854   132046  visually appealing  1435014664\n",
       "753167  270871      296               drugs  1426975036\n",
       "753168  270871      296            exciting  1426975036\n",
       "753169  270871      296             violent  1426975036\n",
       "\n",
       "[753170 rows x 4 columns]"
      ]
     },
     "execution_count": 20,
     "metadata": {},
     "output_type": "execute_result"
    }
   ],
   "source": [
    "tags"
   ]
  },
  {
   "cell_type": "code",
   "execution_count": 23,
   "id": "a6b5c423-d0da-46a3-8b85-c4b328b28dab",
   "metadata": {},
   "outputs": [],
   "source": [
    "#CHECKING THE TYPE OF THE DATASET"
   ]
  },
  {
   "cell_type": "code",
   "execution_count": 25,
   "id": "1c6a2398-0560-433d-af23-3c0e0d9798ee",
   "metadata": {},
   "outputs": [
    {
     "data": {
      "text/plain": [
       "pandas.core.frame.DataFrame"
      ]
     },
     "execution_count": 25,
     "metadata": {},
     "output_type": "execute_result"
    }
   ],
   "source": [
    "type(tags)"
   ]
  },
  {
   "cell_type": "code",
   "execution_count": 27,
   "id": "34dfb884-8e7f-43b0-b1ba-0a3bb1d15afc",
   "metadata": {},
   "outputs": [],
   "source": [
    "#PRINTING THE VALUES OF THE DATASET"
   ]
  },
  {
   "cell_type": "code",
   "execution_count": 29,
   "id": "6181a644-b5c7-4dee-b065-55fc034b5e90",
   "metadata": {},
   "outputs": [
    {
     "data": {
      "text/html": [
       "<div>\n",
       "<style scoped>\n",
       "    .dataframe tbody tr th:only-of-type {\n",
       "        vertical-align: middle;\n",
       "    }\n",
       "\n",
       "    .dataframe tbody tr th {\n",
       "        vertical-align: top;\n",
       "    }\n",
       "\n",
       "    .dataframe thead th {\n",
       "        text-align: right;\n",
       "    }\n",
       "</style>\n",
       "<table border=\"1\" class=\"dataframe\">\n",
       "  <thead>\n",
       "    <tr style=\"text-align: right;\">\n",
       "      <th></th>\n",
       "      <th>userId</th>\n",
       "      <th>movieId</th>\n",
       "      <th>tag</th>\n",
       "      <th>timestamp</th>\n",
       "    </tr>\n",
       "  </thead>\n",
       "  <tbody>\n",
       "    <tr>\n",
       "      <th>0</th>\n",
       "      <td>1</td>\n",
       "      <td>318</td>\n",
       "      <td>narrated</td>\n",
       "      <td>1425942391</td>\n",
       "    </tr>\n",
       "    <tr>\n",
       "      <th>1</th>\n",
       "      <td>20</td>\n",
       "      <td>4306</td>\n",
       "      <td>Dreamworks</td>\n",
       "      <td>1459855607</td>\n",
       "    </tr>\n",
       "    <tr>\n",
       "      <th>2</th>\n",
       "      <td>20</td>\n",
       "      <td>89302</td>\n",
       "      <td>England</td>\n",
       "      <td>1400778834</td>\n",
       "    </tr>\n",
       "    <tr>\n",
       "      <th>3</th>\n",
       "      <td>20</td>\n",
       "      <td>89302</td>\n",
       "      <td>espionage</td>\n",
       "      <td>1400778836</td>\n",
       "    </tr>\n",
       "    <tr>\n",
       "      <th>4</th>\n",
       "      <td>20</td>\n",
       "      <td>89302</td>\n",
       "      <td>jazz</td>\n",
       "      <td>1400778841</td>\n",
       "    </tr>\n",
       "    <tr>\n",
       "      <th>5</th>\n",
       "      <td>20</td>\n",
       "      <td>89302</td>\n",
       "      <td>politics</td>\n",
       "      <td>1400778841</td>\n",
       "    </tr>\n",
       "    <tr>\n",
       "      <th>6</th>\n",
       "      <td>20</td>\n",
       "      <td>96079</td>\n",
       "      <td>nostalgic</td>\n",
       "      <td>1407930249</td>\n",
       "    </tr>\n",
       "    <tr>\n",
       "      <th>7</th>\n",
       "      <td>20</td>\n",
       "      <td>113315</td>\n",
       "      <td>coming of age</td>\n",
       "      <td>1407837917</td>\n",
       "    </tr>\n",
       "    <tr>\n",
       "      <th>8</th>\n",
       "      <td>20</td>\n",
       "      <td>113315</td>\n",
       "      <td>dark comedy</td>\n",
       "      <td>1407838006</td>\n",
       "    </tr>\n",
       "    <tr>\n",
       "      <th>9</th>\n",
       "      <td>20</td>\n",
       "      <td>113315</td>\n",
       "      <td>kafkaesque</td>\n",
       "      <td>1407837913</td>\n",
       "    </tr>\n",
       "    <tr>\n",
       "      <th>10</th>\n",
       "      <td>20</td>\n",
       "      <td>113315</td>\n",
       "      <td>military</td>\n",
       "      <td>1407837917</td>\n",
       "    </tr>\n",
       "    <tr>\n",
       "      <th>11</th>\n",
       "      <td>20</td>\n",
       "      <td>113315</td>\n",
       "      <td>satire</td>\n",
       "      <td>1407838056</td>\n",
       "    </tr>\n",
       "    <tr>\n",
       "      <th>12</th>\n",
       "      <td>20</td>\n",
       "      <td>122886</td>\n",
       "      <td>Plot Recycling</td>\n",
       "      <td>1451059168</td>\n",
       "    </tr>\n",
       "    <tr>\n",
       "      <th>13</th>\n",
       "      <td>49</td>\n",
       "      <td>2642</td>\n",
       "      <td>comic book</td>\n",
       "      <td>1149449050</td>\n",
       "    </tr>\n",
       "    <tr>\n",
       "      <th>14</th>\n",
       "      <td>49</td>\n",
       "      <td>2643</td>\n",
       "      <td>comic book</td>\n",
       "      <td>1149449057</td>\n",
       "    </tr>\n",
       "    <tr>\n",
       "      <th>15</th>\n",
       "      <td>49</td>\n",
       "      <td>3440</td>\n",
       "      <td>comic book</td>\n",
       "      <td>1149448823</td>\n",
       "    </tr>\n",
       "    <tr>\n",
       "      <th>16</th>\n",
       "      <td>49</td>\n",
       "      <td>4636</td>\n",
       "      <td>comic book</td>\n",
       "      <td>1149448913</td>\n",
       "    </tr>\n",
       "    <tr>\n",
       "      <th>17</th>\n",
       "      <td>49</td>\n",
       "      <td>7439</td>\n",
       "      <td>comic book</td>\n",
       "      <td>1149448915</td>\n",
       "    </tr>\n",
       "    <tr>\n",
       "      <th>18</th>\n",
       "      <td>49</td>\n",
       "      <td>37733</td>\n",
       "      <td>Comic Book adaption</td>\n",
       "      <td>1149448582</td>\n",
       "    </tr>\n",
       "    <tr>\n",
       "      <th>19</th>\n",
       "      <td>50</td>\n",
       "      <td>750</td>\n",
       "      <td>satire</td>\n",
       "      <td>1462078409</td>\n",
       "    </tr>\n",
       "  </tbody>\n",
       "</table>\n",
       "</div>"
      ],
      "text/plain": [
       "    userId  movieId                  tag   timestamp\n",
       "0        1      318             narrated  1425942391\n",
       "1       20     4306           Dreamworks  1459855607\n",
       "2       20    89302              England  1400778834\n",
       "3       20    89302            espionage  1400778836\n",
       "4       20    89302                 jazz  1400778841\n",
       "5       20    89302             politics  1400778841\n",
       "6       20    96079            nostalgic  1407930249\n",
       "7       20   113315        coming of age  1407837917\n",
       "8       20   113315          dark comedy  1407838006\n",
       "9       20   113315           kafkaesque  1407837913\n",
       "10      20   113315             military  1407837917\n",
       "11      20   113315               satire  1407838056\n",
       "12      20   122886       Plot Recycling  1451059168\n",
       "13      49     2642           comic book  1149449050\n",
       "14      49     2643           comic book  1149449057\n",
       "15      49     3440           comic book  1149448823\n",
       "16      49     4636           comic book  1149448913\n",
       "17      49     7439           comic book  1149448915\n",
       "18      49    37733  Comic Book adaption  1149448582\n",
       "19      50      750               satire  1462078409"
      ]
     },
     "execution_count": 29,
     "metadata": {},
     "output_type": "execute_result"
    }
   ],
   "source": [
    "tags.head(20)"
   ]
  },
  {
   "cell_type": "code",
   "execution_count": 31,
   "id": "a4ceec35-1ca4-4430-9cd4-bfaacc7d3ca3",
   "metadata": {},
   "outputs": [],
   "source": [
    "#READING THE RATINGS OF DATASET"
   ]
  },
  {
   "cell_type": "code",
   "execution_count": 33,
   "id": "877dc19d-68bb-464c-9b23-41960a7607f0",
   "metadata": {},
   "outputs": [],
   "source": [
    "ratings = pd.read_csv(r\"C:\\Users\\Dell\\Downloads\\archive\\ratings.csv\")"
   ]
  },
  {
   "cell_type": "code",
   "execution_count": 34,
   "id": "4d2f59d8-fe1d-4d8a-8571-8ee9082616c8",
   "metadata": {},
   "outputs": [
    {
     "data": {
      "text/html": [
       "<div>\n",
       "<style scoped>\n",
       "    .dataframe tbody tr th:only-of-type {\n",
       "        vertical-align: middle;\n",
       "    }\n",
       "\n",
       "    .dataframe tbody tr th {\n",
       "        vertical-align: top;\n",
       "    }\n",
       "\n",
       "    .dataframe thead th {\n",
       "        text-align: right;\n",
       "    }\n",
       "</style>\n",
       "<table border=\"1\" class=\"dataframe\">\n",
       "  <thead>\n",
       "    <tr style=\"text-align: right;\">\n",
       "      <th></th>\n",
       "      <th>userId</th>\n",
       "      <th>movieId</th>\n",
       "      <th>rating</th>\n",
       "      <th>timestamp</th>\n",
       "    </tr>\n",
       "  </thead>\n",
       "  <tbody>\n",
       "    <tr>\n",
       "      <th>0</th>\n",
       "      <td>1</td>\n",
       "      <td>110</td>\n",
       "      <td>1.0</td>\n",
       "      <td>1425941529</td>\n",
       "    </tr>\n",
       "    <tr>\n",
       "      <th>1</th>\n",
       "      <td>1</td>\n",
       "      <td>147</td>\n",
       "      <td>4.5</td>\n",
       "      <td>1425942435</td>\n",
       "    </tr>\n",
       "    <tr>\n",
       "      <th>2</th>\n",
       "      <td>1</td>\n",
       "      <td>858</td>\n",
       "      <td>5.0</td>\n",
       "      <td>1425941523</td>\n",
       "    </tr>\n",
       "    <tr>\n",
       "      <th>3</th>\n",
       "      <td>1</td>\n",
       "      <td>1221</td>\n",
       "      <td>5.0</td>\n",
       "      <td>1425941546</td>\n",
       "    </tr>\n",
       "    <tr>\n",
       "      <th>4</th>\n",
       "      <td>1</td>\n",
       "      <td>1246</td>\n",
       "      <td>5.0</td>\n",
       "      <td>1425941556</td>\n",
       "    </tr>\n",
       "    <tr>\n",
       "      <th>...</th>\n",
       "      <td>...</td>\n",
       "      <td>...</td>\n",
       "      <td>...</td>\n",
       "      <td>...</td>\n",
       "    </tr>\n",
       "    <tr>\n",
       "      <th>26024284</th>\n",
       "      <td>270896</td>\n",
       "      <td>58559</td>\n",
       "      <td>5.0</td>\n",
       "      <td>1257031564</td>\n",
       "    </tr>\n",
       "    <tr>\n",
       "      <th>26024285</th>\n",
       "      <td>270896</td>\n",
       "      <td>60069</td>\n",
       "      <td>5.0</td>\n",
       "      <td>1257032032</td>\n",
       "    </tr>\n",
       "    <tr>\n",
       "      <th>26024286</th>\n",
       "      <td>270896</td>\n",
       "      <td>63082</td>\n",
       "      <td>4.5</td>\n",
       "      <td>1257031764</td>\n",
       "    </tr>\n",
       "    <tr>\n",
       "      <th>26024287</th>\n",
       "      <td>270896</td>\n",
       "      <td>64957</td>\n",
       "      <td>4.5</td>\n",
       "      <td>1257033990</td>\n",
       "    </tr>\n",
       "    <tr>\n",
       "      <th>26024288</th>\n",
       "      <td>270896</td>\n",
       "      <td>71878</td>\n",
       "      <td>2.0</td>\n",
       "      <td>1257031858</td>\n",
       "    </tr>\n",
       "  </tbody>\n",
       "</table>\n",
       "<p>26024289 rows × 4 columns</p>\n",
       "</div>"
      ],
      "text/plain": [
       "          userId  movieId  rating   timestamp\n",
       "0              1      110     1.0  1425941529\n",
       "1              1      147     4.5  1425942435\n",
       "2              1      858     5.0  1425941523\n",
       "3              1     1221     5.0  1425941546\n",
       "4              1     1246     5.0  1425941556\n",
       "...          ...      ...     ...         ...\n",
       "26024284  270896    58559     5.0  1257031564\n",
       "26024285  270896    60069     5.0  1257032032\n",
       "26024286  270896    63082     4.5  1257031764\n",
       "26024287  270896    64957     4.5  1257033990\n",
       "26024288  270896    71878     2.0  1257031858\n",
       "\n",
       "[26024289 rows x 4 columns]"
      ]
     },
     "execution_count": 34,
     "metadata": {},
     "output_type": "execute_result"
    }
   ],
   "source": [
    "ratings"
   ]
  },
  {
   "cell_type": "code",
   "execution_count": 35,
   "id": "de817abd-dadf-4d5c-8e60-efb35df1ceab",
   "metadata": {},
   "outputs": [
    {
     "data": {
      "text/plain": [
       "pandas.core.frame.DataFrame"
      ]
     },
     "execution_count": 35,
     "metadata": {},
     "output_type": "execute_result"
    }
   ],
   "source": [
    "type(ratings)"
   ]
  },
  {
   "cell_type": "code",
   "execution_count": 36,
   "id": "f4a31a30-88c3-4a57-bbad-1780aeac71fd",
   "metadata": {},
   "outputs": [
    {
     "data": {
      "text/html": [
       "<div>\n",
       "<style scoped>\n",
       "    .dataframe tbody tr th:only-of-type {\n",
       "        vertical-align: middle;\n",
       "    }\n",
       "\n",
       "    .dataframe tbody tr th {\n",
       "        vertical-align: top;\n",
       "    }\n",
       "\n",
       "    .dataframe thead th {\n",
       "        text-align: right;\n",
       "    }\n",
       "</style>\n",
       "<table border=\"1\" class=\"dataframe\">\n",
       "  <thead>\n",
       "    <tr style=\"text-align: right;\">\n",
       "      <th></th>\n",
       "      <th>userId</th>\n",
       "      <th>movieId</th>\n",
       "      <th>rating</th>\n",
       "      <th>timestamp</th>\n",
       "    </tr>\n",
       "  </thead>\n",
       "  <tbody>\n",
       "    <tr>\n",
       "      <th>0</th>\n",
       "      <td>1</td>\n",
       "      <td>110</td>\n",
       "      <td>1.0</td>\n",
       "      <td>1425941529</td>\n",
       "    </tr>\n",
       "    <tr>\n",
       "      <th>1</th>\n",
       "      <td>1</td>\n",
       "      <td>147</td>\n",
       "      <td>4.5</td>\n",
       "      <td>1425942435</td>\n",
       "    </tr>\n",
       "    <tr>\n",
       "      <th>2</th>\n",
       "      <td>1</td>\n",
       "      <td>858</td>\n",
       "      <td>5.0</td>\n",
       "      <td>1425941523</td>\n",
       "    </tr>\n",
       "    <tr>\n",
       "      <th>3</th>\n",
       "      <td>1</td>\n",
       "      <td>1221</td>\n",
       "      <td>5.0</td>\n",
       "      <td>1425941546</td>\n",
       "    </tr>\n",
       "    <tr>\n",
       "      <th>4</th>\n",
       "      <td>1</td>\n",
       "      <td>1246</td>\n",
       "      <td>5.0</td>\n",
       "      <td>1425941556</td>\n",
       "    </tr>\n",
       "    <tr>\n",
       "      <th>5</th>\n",
       "      <td>1</td>\n",
       "      <td>1968</td>\n",
       "      <td>4.0</td>\n",
       "      <td>1425942148</td>\n",
       "    </tr>\n",
       "    <tr>\n",
       "      <th>6</th>\n",
       "      <td>1</td>\n",
       "      <td>2762</td>\n",
       "      <td>4.5</td>\n",
       "      <td>1425941300</td>\n",
       "    </tr>\n",
       "    <tr>\n",
       "      <th>7</th>\n",
       "      <td>1</td>\n",
       "      <td>2918</td>\n",
       "      <td>5.0</td>\n",
       "      <td>1425941593</td>\n",
       "    </tr>\n",
       "    <tr>\n",
       "      <th>8</th>\n",
       "      <td>1</td>\n",
       "      <td>2959</td>\n",
       "      <td>4.0</td>\n",
       "      <td>1425941601</td>\n",
       "    </tr>\n",
       "    <tr>\n",
       "      <th>9</th>\n",
       "      <td>1</td>\n",
       "      <td>4226</td>\n",
       "      <td>4.0</td>\n",
       "      <td>1425942228</td>\n",
       "    </tr>\n",
       "    <tr>\n",
       "      <th>10</th>\n",
       "      <td>1</td>\n",
       "      <td>4878</td>\n",
       "      <td>5.0</td>\n",
       "      <td>1425941434</td>\n",
       "    </tr>\n",
       "    <tr>\n",
       "      <th>11</th>\n",
       "      <td>1</td>\n",
       "      <td>5577</td>\n",
       "      <td>5.0</td>\n",
       "      <td>1425941397</td>\n",
       "    </tr>\n",
       "    <tr>\n",
       "      <th>12</th>\n",
       "      <td>1</td>\n",
       "      <td>33794</td>\n",
       "      <td>4.0</td>\n",
       "      <td>1425942005</td>\n",
       "    </tr>\n",
       "    <tr>\n",
       "      <th>13</th>\n",
       "      <td>1</td>\n",
       "      <td>54503</td>\n",
       "      <td>3.5</td>\n",
       "      <td>1425941313</td>\n",
       "    </tr>\n",
       "    <tr>\n",
       "      <th>14</th>\n",
       "      <td>1</td>\n",
       "      <td>58559</td>\n",
       "      <td>4.0</td>\n",
       "      <td>1425942007</td>\n",
       "    </tr>\n",
       "    <tr>\n",
       "      <th>15</th>\n",
       "      <td>1</td>\n",
       "      <td>59315</td>\n",
       "      <td>5.0</td>\n",
       "      <td>1425941502</td>\n",
       "    </tr>\n",
       "    <tr>\n",
       "      <th>16</th>\n",
       "      <td>1</td>\n",
       "      <td>68358</td>\n",
       "      <td>5.0</td>\n",
       "      <td>1425941464</td>\n",
       "    </tr>\n",
       "    <tr>\n",
       "      <th>17</th>\n",
       "      <td>1</td>\n",
       "      <td>69844</td>\n",
       "      <td>5.0</td>\n",
       "      <td>1425942139</td>\n",
       "    </tr>\n",
       "    <tr>\n",
       "      <th>18</th>\n",
       "      <td>1</td>\n",
       "      <td>73017</td>\n",
       "      <td>5.0</td>\n",
       "      <td>1425942699</td>\n",
       "    </tr>\n",
       "    <tr>\n",
       "      <th>19</th>\n",
       "      <td>1</td>\n",
       "      <td>81834</td>\n",
       "      <td>5.0</td>\n",
       "      <td>1425942133</td>\n",
       "    </tr>\n",
       "  </tbody>\n",
       "</table>\n",
       "</div>"
      ],
      "text/plain": [
       "    userId  movieId  rating   timestamp\n",
       "0        1      110     1.0  1425941529\n",
       "1        1      147     4.5  1425942435\n",
       "2        1      858     5.0  1425941523\n",
       "3        1     1221     5.0  1425941546\n",
       "4        1     1246     5.0  1425941556\n",
       "5        1     1968     4.0  1425942148\n",
       "6        1     2762     4.5  1425941300\n",
       "7        1     2918     5.0  1425941593\n",
       "8        1     2959     4.0  1425941601\n",
       "9        1     4226     4.0  1425942228\n",
       "10       1     4878     5.0  1425941434\n",
       "11       1     5577     5.0  1425941397\n",
       "12       1    33794     4.0  1425942005\n",
       "13       1    54503     3.5  1425941313\n",
       "14       1    58559     4.0  1425942007\n",
       "15       1    59315     5.0  1425941502\n",
       "16       1    68358     5.0  1425941464\n",
       "17       1    69844     5.0  1425942139\n",
       "18       1    73017     5.0  1425942699\n",
       "19       1    81834     5.0  1425942133"
      ]
     },
     "execution_count": 36,
     "metadata": {},
     "output_type": "execute_result"
    }
   ],
   "source": [
    "ratings.head(20)"
   ]
  },
  {
   "cell_type": "code",
   "execution_count": 37,
   "id": "4497acd7-30f6-40fb-8836-07d257223a8b",
   "metadata": {},
   "outputs": [],
   "source": [
    "del ratings['timestamp']\n",
    "del tags['timestamp']"
   ]
  },
  {
   "cell_type": "code",
   "execution_count": 38,
   "id": "8c219739-515f-43d5-a6d2-fec7baf3632a",
   "metadata": {},
   "outputs": [
    {
     "data": {
      "text/html": [
       "<div>\n",
       "<style scoped>\n",
       "    .dataframe tbody tr th:only-of-type {\n",
       "        vertical-align: middle;\n",
       "    }\n",
       "\n",
       "    .dataframe tbody tr th {\n",
       "        vertical-align: top;\n",
       "    }\n",
       "\n",
       "    .dataframe thead th {\n",
       "        text-align: right;\n",
       "    }\n",
       "</style>\n",
       "<table border=\"1\" class=\"dataframe\">\n",
       "  <thead>\n",
       "    <tr style=\"text-align: right;\">\n",
       "      <th></th>\n",
       "      <th>userId</th>\n",
       "      <th>movieId</th>\n",
       "      <th>rating</th>\n",
       "    </tr>\n",
       "  </thead>\n",
       "  <tbody>\n",
       "    <tr>\n",
       "      <th>0</th>\n",
       "      <td>1</td>\n",
       "      <td>110</td>\n",
       "      <td>1.0</td>\n",
       "    </tr>\n",
       "    <tr>\n",
       "      <th>1</th>\n",
       "      <td>1</td>\n",
       "      <td>147</td>\n",
       "      <td>4.5</td>\n",
       "    </tr>\n",
       "    <tr>\n",
       "      <th>2</th>\n",
       "      <td>1</td>\n",
       "      <td>858</td>\n",
       "      <td>5.0</td>\n",
       "    </tr>\n",
       "    <tr>\n",
       "      <th>3</th>\n",
       "      <td>1</td>\n",
       "      <td>1221</td>\n",
       "      <td>5.0</td>\n",
       "    </tr>\n",
       "    <tr>\n",
       "      <th>4</th>\n",
       "      <td>1</td>\n",
       "      <td>1246</td>\n",
       "      <td>5.0</td>\n",
       "    </tr>\n",
       "    <tr>\n",
       "      <th>...</th>\n",
       "      <td>...</td>\n",
       "      <td>...</td>\n",
       "      <td>...</td>\n",
       "    </tr>\n",
       "    <tr>\n",
       "      <th>26024284</th>\n",
       "      <td>270896</td>\n",
       "      <td>58559</td>\n",
       "      <td>5.0</td>\n",
       "    </tr>\n",
       "    <tr>\n",
       "      <th>26024285</th>\n",
       "      <td>270896</td>\n",
       "      <td>60069</td>\n",
       "      <td>5.0</td>\n",
       "    </tr>\n",
       "    <tr>\n",
       "      <th>26024286</th>\n",
       "      <td>270896</td>\n",
       "      <td>63082</td>\n",
       "      <td>4.5</td>\n",
       "    </tr>\n",
       "    <tr>\n",
       "      <th>26024287</th>\n",
       "      <td>270896</td>\n",
       "      <td>64957</td>\n",
       "      <td>4.5</td>\n",
       "    </tr>\n",
       "    <tr>\n",
       "      <th>26024288</th>\n",
       "      <td>270896</td>\n",
       "      <td>71878</td>\n",
       "      <td>2.0</td>\n",
       "    </tr>\n",
       "  </tbody>\n",
       "</table>\n",
       "<p>26024289 rows × 3 columns</p>\n",
       "</div>"
      ],
      "text/plain": [
       "          userId  movieId  rating\n",
       "0              1      110     1.0\n",
       "1              1      147     4.5\n",
       "2              1      858     5.0\n",
       "3              1     1221     5.0\n",
       "4              1     1246     5.0\n",
       "...          ...      ...     ...\n",
       "26024284  270896    58559     5.0\n",
       "26024285  270896    60069     5.0\n",
       "26024286  270896    63082     4.5\n",
       "26024287  270896    64957     4.5\n",
       "26024288  270896    71878     2.0\n",
       "\n",
       "[26024289 rows x 3 columns]"
      ]
     },
     "execution_count": 38,
     "metadata": {},
     "output_type": "execute_result"
    }
   ],
   "source": [
    "ratings"
   ]
  },
  {
   "cell_type": "code",
   "execution_count": 39,
   "id": "e44a218e-0a0c-491e-8104-81d760e01738",
   "metadata": {},
   "outputs": [
    {
     "data": {
      "text/html": [
       "<div>\n",
       "<style scoped>\n",
       "    .dataframe tbody tr th:only-of-type {\n",
       "        vertical-align: middle;\n",
       "    }\n",
       "\n",
       "    .dataframe tbody tr th {\n",
       "        vertical-align: top;\n",
       "    }\n",
       "\n",
       "    .dataframe thead th {\n",
       "        text-align: right;\n",
       "    }\n",
       "</style>\n",
       "<table border=\"1\" class=\"dataframe\">\n",
       "  <thead>\n",
       "    <tr style=\"text-align: right;\">\n",
       "      <th></th>\n",
       "      <th>userId</th>\n",
       "      <th>movieId</th>\n",
       "      <th>tag</th>\n",
       "    </tr>\n",
       "  </thead>\n",
       "  <tbody>\n",
       "    <tr>\n",
       "      <th>0</th>\n",
       "      <td>1</td>\n",
       "      <td>318</td>\n",
       "      <td>narrated</td>\n",
       "    </tr>\n",
       "    <tr>\n",
       "      <th>1</th>\n",
       "      <td>20</td>\n",
       "      <td>4306</td>\n",
       "      <td>Dreamworks</td>\n",
       "    </tr>\n",
       "    <tr>\n",
       "      <th>2</th>\n",
       "      <td>20</td>\n",
       "      <td>89302</td>\n",
       "      <td>England</td>\n",
       "    </tr>\n",
       "    <tr>\n",
       "      <th>3</th>\n",
       "      <td>20</td>\n",
       "      <td>89302</td>\n",
       "      <td>espionage</td>\n",
       "    </tr>\n",
       "    <tr>\n",
       "      <th>4</th>\n",
       "      <td>20</td>\n",
       "      <td>89302</td>\n",
       "      <td>jazz</td>\n",
       "    </tr>\n",
       "    <tr>\n",
       "      <th>...</th>\n",
       "      <td>...</td>\n",
       "      <td>...</td>\n",
       "      <td>...</td>\n",
       "    </tr>\n",
       "    <tr>\n",
       "      <th>753165</th>\n",
       "      <td>270854</td>\n",
       "      <td>132046</td>\n",
       "      <td>ineffective</td>\n",
       "    </tr>\n",
       "    <tr>\n",
       "      <th>753166</th>\n",
       "      <td>270854</td>\n",
       "      <td>132046</td>\n",
       "      <td>visually appealing</td>\n",
       "    </tr>\n",
       "    <tr>\n",
       "      <th>753167</th>\n",
       "      <td>270871</td>\n",
       "      <td>296</td>\n",
       "      <td>drugs</td>\n",
       "    </tr>\n",
       "    <tr>\n",
       "      <th>753168</th>\n",
       "      <td>270871</td>\n",
       "      <td>296</td>\n",
       "      <td>exciting</td>\n",
       "    </tr>\n",
       "    <tr>\n",
       "      <th>753169</th>\n",
       "      <td>270871</td>\n",
       "      <td>296</td>\n",
       "      <td>violent</td>\n",
       "    </tr>\n",
       "  </tbody>\n",
       "</table>\n",
       "<p>753170 rows × 3 columns</p>\n",
       "</div>"
      ],
      "text/plain": [
       "        userId  movieId                 tag\n",
       "0            1      318            narrated\n",
       "1           20     4306          Dreamworks\n",
       "2           20    89302             England\n",
       "3           20    89302           espionage\n",
       "4           20    89302                jazz\n",
       "...        ...      ...                 ...\n",
       "753165  270854   132046         ineffective\n",
       "753166  270854   132046  visually appealing\n",
       "753167  270871      296               drugs\n",
       "753168  270871      296            exciting\n",
       "753169  270871      296             violent\n",
       "\n",
       "[753170 rows x 3 columns]"
      ]
     },
     "execution_count": 39,
     "metadata": {},
     "output_type": "execute_result"
    }
   ],
   "source": [
    "tags"
   ]
  },
  {
   "cell_type": "markdown",
   "id": "d4dd1632-e521-4f61-ba00-6a3e3d6434f1",
   "metadata": {},
   "source": [
    "***************DATA STRUCTURES****************"
   ]
  },
  {
   "cell_type": "markdown",
   "id": "5a500165-990f-4d16-92a4-ecb9def4ea54",
   "metadata": {},
   "source": [
    "********SERIES*********"
   ]
  },
  {
   "cell_type": "code",
   "execution_count": 42,
   "id": "4abdeaff-101a-461e-8601-089de3aa1b7d",
   "metadata": {},
   "outputs": [],
   "source": [
    "# Accessing specific values using their integer numbers"
   ]
  },
  {
   "cell_type": "code",
   "execution_count": 43,
   "id": "52482385-0511-4622-b0a4-fe6a03d3d366",
   "metadata": {},
   "outputs": [
    {
     "name": "stdout",
     "output_type": "stream",
     "text": [
      "<class 'pandas.core.series.Series'>\n",
      "userId            1\n",
      "movieId         318\n",
      "tag        narrated\n",
      "Name: 0, dtype: object\n",
      "Index(['userId', 'movieId', 'tag'], dtype='object')\n",
      "1\n"
     ]
    }
   ],
   "source": [
    "row_0 = tags.iloc[0] # is used to access values\n",
    "print(type(row_0))\n",
    "print(row_0)\n",
    "print(row_0.index) # returns the attributes\n",
    "print(row_0['userId']) # prints the value"
   ]
  },
  {
   "cell_type": "code",
   "execution_count": 44,
   "id": "18addcb6-4828-4e38-b903-106e55665229",
   "metadata": {},
   "outputs": [],
   "source": [
    "#MEMBERSHIP"
   ]
  },
  {
   "cell_type": "code",
   "execution_count": 45,
   "id": "4c85c904-8455-4d0c-af8b-4d00dc9588ed",
   "metadata": {},
   "outputs": [
    {
     "data": {
      "text/plain": [
       "False"
      ]
     },
     "execution_count": 45,
     "metadata": {},
     "output_type": "execute_result"
    }
   ],
   "source": [
    "'rating' in row_0"
   ]
  },
  {
   "cell_type": "code",
   "execution_count": 46,
   "id": "7a6e75a0-f420-46a5-a311-4f8f834ac605",
   "metadata": {},
   "outputs": [
    {
     "data": {
      "text/plain": [
       "0"
      ]
     },
     "execution_count": 46,
     "metadata": {},
     "output_type": "execute_result"
    }
   ],
   "source": [
    "row_0.name #returns the name of the series or s.no"
   ]
  },
  {
   "cell_type": "code",
   "execution_count": 47,
   "id": "a0c4ff6b-ee1a-40d8-974b-bb209522541b",
   "metadata": {},
   "outputs": [],
   "source": [
    "# WE ARE CHANGING THE ROW NAME FROM 0 TO FIRST ROW"
   ]
  },
  {
   "cell_type": "code",
   "execution_count": 48,
   "id": "c22158a4-d45b-4377-b8e2-404d87174db2",
   "metadata": {},
   "outputs": [
    {
     "name": "stdout",
     "output_type": "stream",
     "text": [
      "FirstRow\n",
      "userId            1\n",
      "movieId         318\n",
      "tag        narrated\n",
      "Name: FirstRow, dtype: object\n"
     ]
    }
   ],
   "source": [
    "row_0 = row_0.rename('FirstRow')\n",
    "print(row_0.name)\n",
    "print(row_0)"
   ]
  },
  {
   "cell_type": "markdown",
   "id": "014f017a-3522-4423-9853-4c7a6857dcfe",
   "metadata": {},
   "source": [
    "*********************DATA FRAMES*********************"
   ]
  },
  {
   "cell_type": "code",
   "execution_count": 63,
   "id": "16516719-d9a5-48bd-8732-80e74bbde0b5",
   "metadata": {},
   "outputs": [
    {
     "data": {
      "text/html": [
       "<div>\n",
       "<style scoped>\n",
       "    .dataframe tbody tr th:only-of-type {\n",
       "        vertical-align: middle;\n",
       "    }\n",
       "\n",
       "    .dataframe tbody tr th {\n",
       "        vertical-align: top;\n",
       "    }\n",
       "\n",
       "    .dataframe thead th {\n",
       "        text-align: right;\n",
       "    }\n",
       "</style>\n",
       "<table border=\"1\" class=\"dataframe\">\n",
       "  <thead>\n",
       "    <tr style=\"text-align: right;\">\n",
       "      <th></th>\n",
       "      <th>userId</th>\n",
       "      <th>movieId</th>\n",
       "      <th>tag</th>\n",
       "    </tr>\n",
       "  </thead>\n",
       "  <tbody>\n",
       "    <tr>\n",
       "      <th>0</th>\n",
       "      <td>1</td>\n",
       "      <td>318</td>\n",
       "      <td>narrated</td>\n",
       "    </tr>\n",
       "    <tr>\n",
       "      <th>1</th>\n",
       "      <td>20</td>\n",
       "      <td>4306</td>\n",
       "      <td>Dreamworks</td>\n",
       "    </tr>\n",
       "    <tr>\n",
       "      <th>2</th>\n",
       "      <td>20</td>\n",
       "      <td>89302</td>\n",
       "      <td>England</td>\n",
       "    </tr>\n",
       "    <tr>\n",
       "      <th>3</th>\n",
       "      <td>20</td>\n",
       "      <td>89302</td>\n",
       "      <td>espionage</td>\n",
       "    </tr>\n",
       "    <tr>\n",
       "      <th>4</th>\n",
       "      <td>20</td>\n",
       "      <td>89302</td>\n",
       "      <td>jazz</td>\n",
       "    </tr>\n",
       "  </tbody>\n",
       "</table>\n",
       "</div>"
      ],
      "text/plain": [
       "   userId  movieId         tag\n",
       "0       1      318    narrated\n",
       "1      20     4306  Dreamworks\n",
       "2      20    89302     England\n",
       "3      20    89302   espionage\n",
       "4      20    89302        jazz"
      ]
     },
     "execution_count": 63,
     "metadata": {},
     "output_type": "execute_result"
    }
   ],
   "source": [
    "tags.head()#diploy first 5 values by default"
   ]
  },
  {
   "cell_type": "code",
   "execution_count": 65,
   "id": "389fce7f-beee-4840-8ad3-b77d9b80719a",
   "metadata": {},
   "outputs": [
    {
     "data": {
      "text/plain": [
       "RangeIndex(start=0, stop=753170, step=1)"
      ]
     },
     "execution_count": 65,
     "metadata": {},
     "output_type": "execute_result"
    }
   ],
   "source": [
    "tags.index #return the total index"
   ]
  },
  {
   "cell_type": "code",
   "execution_count": 67,
   "id": "0c52390c-4742-4e57-86d3-fe9faa415cd7",
   "metadata": {},
   "outputs": [],
   "source": [
    "# WE ARE PRINTING THE VALUES USING THEIR INTEGER INDEX"
   ]
  },
  {
   "cell_type": "code",
   "execution_count": 69,
   "id": "5d407d2f-b381-4a90-9a25-a829140196a7",
   "metadata": {},
   "outputs": [
    {
     "data": {
      "text/html": [
       "<div>\n",
       "<style scoped>\n",
       "    .dataframe tbody tr th:only-of-type {\n",
       "        vertical-align: middle;\n",
       "    }\n",
       "\n",
       "    .dataframe tbody tr th {\n",
       "        vertical-align: top;\n",
       "    }\n",
       "\n",
       "    .dataframe thead th {\n",
       "        text-align: right;\n",
       "    }\n",
       "</style>\n",
       "<table border=\"1\" class=\"dataframe\">\n",
       "  <thead>\n",
       "    <tr style=\"text-align: right;\">\n",
       "      <th></th>\n",
       "      <th>userId</th>\n",
       "      <th>movieId</th>\n",
       "      <th>tag</th>\n",
       "    </tr>\n",
       "  </thead>\n",
       "  <tbody>\n",
       "    <tr>\n",
       "      <th>0</th>\n",
       "      <td>1</td>\n",
       "      <td>318</td>\n",
       "      <td>narrated</td>\n",
       "    </tr>\n",
       "    <tr>\n",
       "      <th>11</th>\n",
       "      <td>20</td>\n",
       "      <td>113315</td>\n",
       "      <td>satire</td>\n",
       "    </tr>\n",
       "    <tr>\n",
       "      <th>500</th>\n",
       "      <td>674</td>\n",
       "      <td>3000</td>\n",
       "      <td>dark</td>\n",
       "    </tr>\n",
       "  </tbody>\n",
       "</table>\n",
       "</div>"
      ],
      "text/plain": [
       "     userId  movieId       tag\n",
       "0         1      318  narrated\n",
       "11       20   113315    satire\n",
       "500     674     3000      dark"
      ]
     },
     "execution_count": 69,
     "metadata": {},
     "output_type": "execute_result"
    }
   ],
   "source": [
    "tags.iloc[[0,11,500]]"
   ]
  },
  {
   "cell_type": "code",
   "execution_count": 71,
   "id": "7654f834-2641-4cff-ac80-e6a661f9d9a6",
   "metadata": {},
   "outputs": [
    {
     "data": {
      "text/html": [
       "<div>\n",
       "<style scoped>\n",
       "    .dataframe tbody tr th:only-of-type {\n",
       "        vertical-align: middle;\n",
       "    }\n",
       "\n",
       "    .dataframe tbody tr th {\n",
       "        vertical-align: top;\n",
       "    }\n",
       "\n",
       "    .dataframe thead th {\n",
       "        text-align: right;\n",
       "    }\n",
       "</style>\n",
       "<table border=\"1\" class=\"dataframe\">\n",
       "  <thead>\n",
       "    <tr style=\"text-align: right;\">\n",
       "      <th></th>\n",
       "      <th>userId</th>\n",
       "      <th>movieId</th>\n",
       "      <th>rating</th>\n",
       "    </tr>\n",
       "  </thead>\n",
       "  <tbody>\n",
       "    <tr>\n",
       "      <th>count</th>\n",
       "      <td>2.602429e+07</td>\n",
       "      <td>2.602429e+07</td>\n",
       "      <td>2.602429e+07</td>\n",
       "    </tr>\n",
       "    <tr>\n",
       "      <th>mean</th>\n",
       "      <td>1.350371e+05</td>\n",
       "      <td>1.584911e+04</td>\n",
       "      <td>3.528090e+00</td>\n",
       "    </tr>\n",
       "    <tr>\n",
       "      <th>std</th>\n",
       "      <td>7.817620e+04</td>\n",
       "      <td>3.108526e+04</td>\n",
       "      <td>1.065443e+00</td>\n",
       "    </tr>\n",
       "    <tr>\n",
       "      <th>min</th>\n",
       "      <td>1.000000e+00</td>\n",
       "      <td>1.000000e+00</td>\n",
       "      <td>5.000000e-01</td>\n",
       "    </tr>\n",
       "    <tr>\n",
       "      <th>25%</th>\n",
       "      <td>6.716400e+04</td>\n",
       "      <td>1.073000e+03</td>\n",
       "      <td>3.000000e+00</td>\n",
       "    </tr>\n",
       "    <tr>\n",
       "      <th>50%</th>\n",
       "      <td>1.351630e+05</td>\n",
       "      <td>2.583000e+03</td>\n",
       "      <td>3.500000e+00</td>\n",
       "    </tr>\n",
       "    <tr>\n",
       "      <th>75%</th>\n",
       "      <td>2.026930e+05</td>\n",
       "      <td>6.503000e+03</td>\n",
       "      <td>4.000000e+00</td>\n",
       "    </tr>\n",
       "    <tr>\n",
       "      <th>max</th>\n",
       "      <td>2.708960e+05</td>\n",
       "      <td>1.762750e+05</td>\n",
       "      <td>5.000000e+00</td>\n",
       "    </tr>\n",
       "  </tbody>\n",
       "</table>\n",
       "</div>"
      ],
      "text/plain": [
       "             userId       movieId        rating\n",
       "count  2.602429e+07  2.602429e+07  2.602429e+07\n",
       "mean   1.350371e+05  1.584911e+04  3.528090e+00\n",
       "std    7.817620e+04  3.108526e+04  1.065443e+00\n",
       "min    1.000000e+00  1.000000e+00  5.000000e-01\n",
       "25%    6.716400e+04  1.073000e+03  3.000000e+00\n",
       "50%    1.351630e+05  2.583000e+03  3.500000e+00\n",
       "75%    2.026930e+05  6.503000e+03  4.000000e+00\n",
       "max    2.708960e+05  1.762750e+05  5.000000e+00"
      ]
     },
     "execution_count": 71,
     "metadata": {},
     "output_type": "execute_result"
    }
   ],
   "source": [
    "ratings.describe() #for the whole dataset "
   ]
  },
  {
   "cell_type": "code",
   "execution_count": 72,
   "id": "31eedc69-d135-495f-a74e-6089a7eab606",
   "metadata": {},
   "outputs": [
    {
     "data": {
      "text/plain": [
       "3.5280903543608817"
      ]
     },
     "execution_count": 72,
     "metadata": {},
     "output_type": "execute_result"
    }
   ],
   "source": [
    "ratings['rating'].mean() #average of all values in the columns"
   ]
  },
  {
   "cell_type": "code",
   "execution_count": 73,
   "id": "41d7f281-6dac-41ec-8984-f118c98ecb48",
   "metadata": {},
   "outputs": [
    {
     "data": {
      "text/plain": [
       "userId     135037.090248\n",
       "movieId     15849.109677\n",
       "rating          3.528090\n",
       "dtype: float64"
      ]
     },
     "execution_count": 73,
     "metadata": {},
     "output_type": "execute_result"
    }
   ],
   "source": [
    "ratings.mean()# average of all columns separtely"
   ]
  },
  {
   "cell_type": "code",
   "execution_count": 74,
   "id": "3baf5454-5dae-4f8b-bd46-921ac737dcdc",
   "metadata": {},
   "outputs": [
    {
     "data": {
      "text/plain": [
       "0.5"
      ]
     },
     "execution_count": 74,
     "metadata": {},
     "output_type": "execute_result"
    }
   ],
   "source": [
    "ratings['rating'].min() #finds the minimum value in the column"
   ]
  },
  {
   "cell_type": "code",
   "execution_count": 79,
   "id": "a47c7199-415b-4972-9760-5e4a638094e9",
   "metadata": {},
   "outputs": [
    {
     "data": {
      "text/plain": [
       "5.0"
      ]
     },
     "execution_count": 79,
     "metadata": {},
     "output_type": "execute_result"
    }
   ],
   "source": [
    "ratings['rating'].max()#finds the maximum value in the column"
   ]
  },
  {
   "cell_type": "code",
   "execution_count": 81,
   "id": "133a3677-64f9-490d-9c00-e8235d78df1a",
   "metadata": {},
   "outputs": [
    {
     "data": {
      "text/plain": [
       "1.0654427637644484"
      ]
     },
     "execution_count": 81,
     "metadata": {},
     "output_type": "execute_result"
    }
   ],
   "source": [
    "ratings['rating'].std() # finds the standard deviation of the column"
   ]
  },
  {
   "cell_type": "code",
   "execution_count": 83,
   "id": "a9ad94cf-947a-47d1-9134-c32d6b8e3d1f",
   "metadata": {},
   "outputs": [
    {
     "data": {
      "text/plain": [
       "0    4.0\n",
       "Name: rating, dtype: float64"
      ]
     },
     "execution_count": 83,
     "metadata": {},
     "output_type": "execute_result"
    }
   ],
   "source": [
    "ratings['rating'].mode() # finds the mode of the column"
   ]
  },
  {
   "cell_type": "code",
   "execution_count": 85,
   "id": "0f19af61-021a-42ea-bc34-4b95b8611970",
   "metadata": {},
   "outputs": [
    {
     "data": {
      "text/html": [
       "<div>\n",
       "<style scoped>\n",
       "    .dataframe tbody tr th:only-of-type {\n",
       "        vertical-align: middle;\n",
       "    }\n",
       "\n",
       "    .dataframe tbody tr th {\n",
       "        vertical-align: top;\n",
       "    }\n",
       "\n",
       "    .dataframe thead th {\n",
       "        text-align: right;\n",
       "    }\n",
       "</style>\n",
       "<table border=\"1\" class=\"dataframe\">\n",
       "  <thead>\n",
       "    <tr style=\"text-align: right;\">\n",
       "      <th></th>\n",
       "      <th>userId</th>\n",
       "      <th>movieId</th>\n",
       "      <th>rating</th>\n",
       "    </tr>\n",
       "  </thead>\n",
       "  <tbody>\n",
       "    <tr>\n",
       "      <th>userId</th>\n",
       "      <td>1.000000</td>\n",
       "      <td>-0.001410</td>\n",
       "      <td>-0.000159</td>\n",
       "    </tr>\n",
       "    <tr>\n",
       "      <th>movieId</th>\n",
       "      <td>-0.001410</td>\n",
       "      <td>1.000000</td>\n",
       "      <td>-0.002841</td>\n",
       "    </tr>\n",
       "    <tr>\n",
       "      <th>rating</th>\n",
       "      <td>-0.000159</td>\n",
       "      <td>-0.002841</td>\n",
       "      <td>1.000000</td>\n",
       "    </tr>\n",
       "  </tbody>\n",
       "</table>\n",
       "</div>"
      ],
      "text/plain": [
       "           userId   movieId    rating\n",
       "userId   1.000000 -0.001410 -0.000159\n",
       "movieId -0.001410  1.000000 -0.002841\n",
       "rating  -0.000159 -0.002841  1.000000"
      ]
     },
     "execution_count": 85,
     "metadata": {},
     "output_type": "execute_result"
    }
   ],
   "source": [
    "ratings.corr() # finds the correlation"
   ]
  },
  {
   "cell_type": "code",
   "execution_count": 86,
   "id": "b803043c-fa49-42d6-ba8a-8b2c428ae1b0",
   "metadata": {},
   "outputs": [],
   "source": [
    "# WE ARE USING CASE STUDIES"
   ]
  },
  {
   "cell_type": "code",
   "execution_count": 89,
   "id": "6d0fc599-51a4-4e70-a78a-0a47c819fad6",
   "metadata": {},
   "outputs": [],
   "source": [
    "# WE ARE THE VALUES THAT HAVE RATING > 10 IN THE RATINGS DATASET AND RATING COLUMNS"
   ]
  },
  {
   "cell_type": "code",
   "execution_count": 91,
   "id": "f900a1f9-678f-4c95-8e13-d8fe281ded89",
   "metadata": {},
   "outputs": [
    {
     "name": "stdout",
     "output_type": "stream",
     "text": [
      "0           False\n",
      "1           False\n",
      "2           False\n",
      "3           False\n",
      "4           False\n",
      "            ...  \n",
      "26024284    False\n",
      "26024285    False\n",
      "26024286    False\n",
      "26024287    False\n",
      "26024288    False\n",
      "Name: rating, Length: 26024289, dtype: bool\n"
     ]
    },
    {
     "data": {
      "text/plain": [
       "False"
      ]
     },
     "execution_count": 91,
     "metadata": {},
     "output_type": "execute_result"
    }
   ],
   "source": [
    "filter1 = ratings['rating'] > 10\n",
    "print(filter1)\n",
    "filter1.any() # returns if any value satisfies the condition"
   ]
  },
  {
   "cell_type": "code",
   "execution_count": 93,
   "id": "3385eaa5-c949-4ff7-b633-369789bc762b",
   "metadata": {},
   "outputs": [],
   "source": [
    "# WE ARE THE VALUES THAT HAVE RATING > 0 IN THE RATINGS DATASET AND RATING COLUMN"
   ]
  },
  {
   "cell_type": "code",
   "execution_count": 95,
   "id": "5c7ca442-ab39-41a1-9acd-4785a2a87478",
   "metadata": {},
   "outputs": [
    {
     "data": {
      "text/plain": [
       "0           True\n",
       "1           True\n",
       "2           True\n",
       "3           True\n",
       "4           True\n",
       "            ... \n",
       "26024284    True\n",
       "26024285    True\n",
       "26024286    True\n",
       "26024287    True\n",
       "26024288    True\n",
       "Name: rating, Length: 26024289, dtype: bool"
      ]
     },
     "execution_count": 95,
     "metadata": {},
     "output_type": "execute_result"
    }
   ],
   "source": [
    "filter2 = ratings['rating'] > 0\n",
    "filter2"
   ]
  },
  {
   "cell_type": "code",
   "execution_count": 97,
   "id": "ce542646-d737-48f9-9734-3e5e1e9fe513",
   "metadata": {},
   "outputs": [
    {
     "data": {
      "text/html": [
       "<div>\n",
       "<style scoped>\n",
       "    .dataframe tbody tr th:only-of-type {\n",
       "        vertical-align: middle;\n",
       "    }\n",
       "\n",
       "    .dataframe tbody tr th {\n",
       "        vertical-align: top;\n",
       "    }\n",
       "\n",
       "    .dataframe thead th {\n",
       "        text-align: right;\n",
       "    }\n",
       "</style>\n",
       "<table border=\"1\" class=\"dataframe\">\n",
       "  <thead>\n",
       "    <tr style=\"text-align: right;\">\n",
       "      <th></th>\n",
       "      <th>userId</th>\n",
       "      <th>movieId</th>\n",
       "      <th>rating</th>\n",
       "    </tr>\n",
       "  </thead>\n",
       "  <tbody>\n",
       "    <tr>\n",
       "      <th>0</th>\n",
       "      <td>1</td>\n",
       "      <td>110</td>\n",
       "      <td>1.0</td>\n",
       "    </tr>\n",
       "    <tr>\n",
       "      <th>1</th>\n",
       "      <td>1</td>\n",
       "      <td>147</td>\n",
       "      <td>4.5</td>\n",
       "    </tr>\n",
       "    <tr>\n",
       "      <th>2</th>\n",
       "      <td>1</td>\n",
       "      <td>858</td>\n",
       "      <td>5.0</td>\n",
       "    </tr>\n",
       "    <tr>\n",
       "      <th>3</th>\n",
       "      <td>1</td>\n",
       "      <td>1221</td>\n",
       "      <td>5.0</td>\n",
       "    </tr>\n",
       "    <tr>\n",
       "      <th>4</th>\n",
       "      <td>1</td>\n",
       "      <td>1246</td>\n",
       "      <td>5.0</td>\n",
       "    </tr>\n",
       "    <tr>\n",
       "      <th>...</th>\n",
       "      <td>...</td>\n",
       "      <td>...</td>\n",
       "      <td>...</td>\n",
       "    </tr>\n",
       "    <tr>\n",
       "      <th>26024284</th>\n",
       "      <td>270896</td>\n",
       "      <td>58559</td>\n",
       "      <td>5.0</td>\n",
       "    </tr>\n",
       "    <tr>\n",
       "      <th>26024285</th>\n",
       "      <td>270896</td>\n",
       "      <td>60069</td>\n",
       "      <td>5.0</td>\n",
       "    </tr>\n",
       "    <tr>\n",
       "      <th>26024286</th>\n",
       "      <td>270896</td>\n",
       "      <td>63082</td>\n",
       "      <td>4.5</td>\n",
       "    </tr>\n",
       "    <tr>\n",
       "      <th>26024287</th>\n",
       "      <td>270896</td>\n",
       "      <td>64957</td>\n",
       "      <td>4.5</td>\n",
       "    </tr>\n",
       "    <tr>\n",
       "      <th>26024288</th>\n",
       "      <td>270896</td>\n",
       "      <td>71878</td>\n",
       "      <td>2.0</td>\n",
       "    </tr>\n",
       "  </tbody>\n",
       "</table>\n",
       "<p>26024289 rows × 3 columns</p>\n",
       "</div>"
      ],
      "text/plain": [
       "          userId  movieId  rating\n",
       "0              1      110     1.0\n",
       "1              1      147     4.5\n",
       "2              1      858     5.0\n",
       "3              1     1221     5.0\n",
       "4              1     1246     5.0\n",
       "...          ...      ...     ...\n",
       "26024284  270896    58559     5.0\n",
       "26024285  270896    60069     5.0\n",
       "26024286  270896    63082     4.5\n",
       "26024287  270896    64957     4.5\n",
       "26024288  270896    71878     2.0\n",
       "\n",
       "[26024289 rows x 3 columns]"
      ]
     },
     "execution_count": 97,
     "metadata": {},
     "output_type": "execute_result"
    }
   ],
   "source": [
    "ratings[filter2] #printing the records that satisfies the condition"
   ]
  },
  {
   "cell_type": "markdown",
   "id": "5eb980d7-6dae-4f35-a5e8-bc499364f470",
   "metadata": {},
   "source": [
    "*******DATA CLEANING:HANDLING MISSING DATA*******"
   ]
  },
  {
   "cell_type": "code",
   "execution_count": 100,
   "id": "684146f9-377d-421e-b8b6-3385ce1d2639",
   "metadata": {},
   "outputs": [],
   "source": [
    "#CHECKING THE DIMENSIONS OF THE MOVIES DATASET"
   ]
  },
  {
   "cell_type": "code",
   "execution_count": 102,
   "id": "0bc62449-fa65-463d-8290-ef0f47fa1b21",
   "metadata": {},
   "outputs": [
    {
     "data": {
      "text/plain": [
       "(45843, 3)"
      ]
     },
     "execution_count": 102,
     "metadata": {},
     "output_type": "execute_result"
    }
   ],
   "source": [
    "movies.shape #returns the rows and columns"
   ]
  },
  {
   "cell_type": "code",
   "execution_count": 104,
   "id": "900e1c24-f34f-41ea-8789-aff7d50315e8",
   "metadata": {},
   "outputs": [
    {
     "data": {
      "text/plain": [
       "movieId    False\n",
       "title      False\n",
       "genres     False\n",
       "dtype: bool"
      ]
     },
     "execution_count": 104,
     "metadata": {},
     "output_type": "execute_result"
    }
   ],
   "source": [
    "movies.isnull().any() #this gives true if there is any missing value"
   ]
  },
  {
   "cell_type": "code",
   "execution_count": 106,
   "id": "7676c148-f47b-4bd4-81fe-a142ebaee38e",
   "metadata": {},
   "outputs": [],
   "source": [
    "#CHECKING THE DIMESIONS OF THE RATING DATASET"
   ]
  },
  {
   "cell_type": "code",
   "execution_count": 108,
   "id": "92f16628-e374-43eb-ad61-de88c87ee7ed",
   "metadata": {},
   "outputs": [
    {
     "data": {
      "text/plain": [
       "(26024289, 3)"
      ]
     },
     "execution_count": 108,
     "metadata": {},
     "output_type": "execute_result"
    }
   ],
   "source": [
    "ratings.shape #returns the rows and columns"
   ]
  },
  {
   "cell_type": "code",
   "execution_count": 110,
   "id": "d5f6bcb7-1d05-4af1-b0df-6f8848df2323",
   "metadata": {},
   "outputs": [
    {
     "data": {
      "text/plain": [
       "userId     False\n",
       "movieId    False\n",
       "rating     False\n",
       "dtype: bool"
      ]
     },
     "execution_count": 110,
     "metadata": {},
     "output_type": "execute_result"
    }
   ],
   "source": [
    "ratings.isnull().any() # this gives the true if there is any missing value "
   ]
  },
  {
   "cell_type": "raw",
   "id": "76ee33e7-98b5-4d6d-810b-1c4954ffb110",
   "metadata": {},
   "source": [
    "# CHECKING THE DIMESIONS OF THE TAGS DATASET"
   ]
  },
  {
   "cell_type": "code",
   "execution_count": 112,
   "id": "b80b22ca-a71c-4999-9eb7-4cc861339786",
   "metadata": {},
   "outputs": [
    {
     "data": {
      "text/plain": [
       "(753170, 3)"
      ]
     },
     "execution_count": 112,
     "metadata": {},
     "output_type": "execute_result"
    }
   ],
   "source": [
    "tags.shape # returns the rows and columns"
   ]
  },
  {
   "cell_type": "code",
   "execution_count": 114,
   "id": "8bb1b8aa-7ab2-49de-8099-47c1ea10a9b0",
   "metadata": {},
   "outputs": [
    {
     "data": {
      "text/plain": [
       "userId     False\n",
       "movieId    False\n",
       "tag         True\n",
       "dtype: bool"
      ]
     },
     "execution_count": 114,
     "metadata": {},
     "output_type": "execute_result"
    }
   ],
   "source": [
    "tags.isnull().any() # this gives True if there is any missing value"
   ]
  },
  {
   "cell_type": "code",
   "execution_count": 116,
   "id": "730c4f53-11b0-449f-be2c-bb26f3e8566c",
   "metadata": {},
   "outputs": [],
   "source": [
    "# WE ARE GOING TO REMOVE THE NULL VALUES FROM THE TAG COLUMN IN THE TAGS DATASET"
   ]
  },
  {
   "cell_type": "code",
   "execution_count": 122,
   "id": "867aea0f-5077-4613-a767-3a9bab06189a",
   "metadata": {},
   "outputs": [],
   "source": [
    "tags = tags.dropna() # removes missing values"
   ]
  },
  {
   "cell_type": "code",
   "execution_count": 124,
   "id": "354d2619-8a16-4e83-9d86-533122b6dc73",
   "metadata": {},
   "outputs": [
    {
     "data": {
      "text/plain": [
       "userId     False\n",
       "movieId    False\n",
       "tag        False\n",
       "dtype: bool"
      ]
     },
     "execution_count": 124,
     "metadata": {},
     "output_type": "execute_result"
    }
   ],
   "source": [
    "tags.isnull().any() # this gives True if there is any missing value"
   ]
  },
  {
   "cell_type": "markdown",
   "id": "6e8a955f-b1b8-4531-9a28-bb99f7fab37c",
   "metadata": {},
   "source": [
    "*************DATA VISUALIZATION***************"
   ]
  },
  {
   "cell_type": "code",
   "execution_count": 127,
   "id": "024eff83-dfc0-4248-b05b-a3050a6805fa",
   "metadata": {},
   "outputs": [],
   "source": [
    "import matplotlib.pyplot as plt\n",
    "%matplotlib inline"
   ]
  },
  {
   "cell_type": "code",
   "execution_count": 128,
   "id": "7b5bf557-a13f-45e2-8131-afd8ed600ce9",
   "metadata": {},
   "outputs": [],
   "source": [
    "# HISTOGRAM OF THE RATING COLUMN INSIDE THE RATINGS DATASET"
   ]
  },
  {
   "cell_type": "code",
   "execution_count": 131,
   "id": "75440333-95fd-4466-8701-cd802650a31a",
   "metadata": {},
   "outputs": [
    {
     "name": "stdout",
     "output_type": "stream",
     "text": [
      "[[<Axes: title={'center': 'rating'}>]]\n"
     ]
    },
    {
     "data": {
      "image/png": "[encoded data removed]",
      "text/plain": [
       "<Figure size 1000x500 with 1 Axes>"
      ]
     },
     "metadata": {},
     "output_type": "display_data"
    }
   ],
   "source": [
    "print(ratings.hist(column = 'rating', figsize=(10,5)))\n",
    "plt.show()"
   ]
  },
  {
   "cell_type": "code",
   "execution_count": null,
   "id": "bdc3d1d8-8076-4529-9208-a6f6aaa21eb1",
   "metadata": {},
   "outputs": [],
   "source": [
    "#BOXPLOT OF THE RATING COLUMN INSIDE THE RATINGS DATASET"
   ]
  },
  {
   "cell_type": "code",
   "execution_count": 140,
   "id": "e44a3124-80c1-4f19-9b84-8318c5c298c7",
   "metadata": {},
   "outputs": [
    {
     "name": "stdout",
     "output_type": "stream",
     "text": [
      "Axes(0.125,0.11;0.775x0.77)\n"
     ]
    },
    {
     "data": {
      "image/png": "[encoded data removed]",
      "text/plain": [
       "<Figure size 1000x500 with 1 Axes>"
      ]
     },
     "metadata": {},
     "output_type": "display_data"
    }
   ],
   "source": [
    "print(ratings.boxplot(column = 'rating',figsize=(10,5)))\n",
    "plt.show()"
   ]
  },
  {
   "cell_type": "markdown",
   "id": "ce3aaba3-c2a5-4a08-9d80-f1d2aa5774e0",
   "metadata": {},
   "source": [
    "************SLICING OUT COLUMNS*********"
   ]
  },
  {
   "cell_type": "code",
   "execution_count": 143,
   "id": "7c556e99-bd51-4e60-8aca-6e6c7e493d0e",
   "metadata": {},
   "outputs": [],
   "source": [
    "#PRINTING VALUES FROM THE TAG COLUMN IN THE TAGS DATASET"
   ]
  },
  {
   "cell_type": "code",
   "execution_count": 145,
   "id": "04182b29-8cde-4cbf-ad7c-c4a247db1f66",
   "metadata": {},
   "outputs": [
    {
     "data": {
      "text/plain": [
       "0      narrated\n",
       "1    Dreamworks\n",
       "2       England\n",
       "3     espionage\n",
       "4          jazz\n",
       "Name: tag, dtype: object"
      ]
     },
     "execution_count": 145,
     "metadata": {},
     "output_type": "execute_result"
    }
   ],
   "source": [
    "tags['tag'].head()"
   ]
  },
  {
   "cell_type": "code",
   "execution_count": 147,
   "id": "23dd662e-8512-4aa9-a973-832be8b4ff68",
   "metadata": {},
   "outputs": [],
   "source": [
    "#PRINTING THE BOTTOM 10 ROWS IN THE RATINGS DATASET"
   ]
  },
  {
   "cell_type": "code",
   "execution_count": 149,
   "id": "24406d19-32d5-411c-9635-672636dac316",
   "metadata": {},
   "outputs": [
    {
     "data": {
      "text/html": [
       "<div>\n",
       "<style scoped>\n",
       "    .dataframe tbody tr th:only-of-type {\n",
       "        vertical-align: middle;\n",
       "    }\n",
       "\n",
       "    .dataframe tbody tr th {\n",
       "        vertical-align: top;\n",
       "    }\n",
       "\n",
       "    .dataframe thead th {\n",
       "        text-align: right;\n",
       "    }\n",
       "</style>\n",
       "<table border=\"1\" class=\"dataframe\">\n",
       "  <thead>\n",
       "    <tr style=\"text-align: right;\">\n",
       "      <th></th>\n",
       "      <th>userId</th>\n",
       "      <th>movieId</th>\n",
       "      <th>rating</th>\n",
       "    </tr>\n",
       "  </thead>\n",
       "  <tbody>\n",
       "    <tr>\n",
       "      <th>26024279</th>\n",
       "      <td>270896</td>\n",
       "      <td>54286</td>\n",
       "      <td>4.5</td>\n",
       "    </tr>\n",
       "    <tr>\n",
       "      <th>26024280</th>\n",
       "      <td>270896</td>\n",
       "      <td>54503</td>\n",
       "      <td>4.0</td>\n",
       "    </tr>\n",
       "    <tr>\n",
       "      <th>26024281</th>\n",
       "      <td>270896</td>\n",
       "      <td>55820</td>\n",
       "      <td>5.0</td>\n",
       "    </tr>\n",
       "    <tr>\n",
       "      <th>26024282</th>\n",
       "      <td>270896</td>\n",
       "      <td>56174</td>\n",
       "      <td>3.5</td>\n",
       "    </tr>\n",
       "    <tr>\n",
       "      <th>26024283</th>\n",
       "      <td>270896</td>\n",
       "      <td>56367</td>\n",
       "      <td>4.5</td>\n",
       "    </tr>\n",
       "    <tr>\n",
       "      <th>26024284</th>\n",
       "      <td>270896</td>\n",
       "      <td>58559</td>\n",
       "      <td>5.0</td>\n",
       "    </tr>\n",
       "    <tr>\n",
       "      <th>26024285</th>\n",
       "      <td>270896</td>\n",
       "      <td>60069</td>\n",
       "      <td>5.0</td>\n",
       "    </tr>\n",
       "    <tr>\n",
       "      <th>26024286</th>\n",
       "      <td>270896</td>\n",
       "      <td>63082</td>\n",
       "      <td>4.5</td>\n",
       "    </tr>\n",
       "    <tr>\n",
       "      <th>26024287</th>\n",
       "      <td>270896</td>\n",
       "      <td>64957</td>\n",
       "      <td>4.5</td>\n",
       "    </tr>\n",
       "    <tr>\n",
       "      <th>26024288</th>\n",
       "      <td>270896</td>\n",
       "      <td>71878</td>\n",
       "      <td>2.0</td>\n",
       "    </tr>\n",
       "  </tbody>\n",
       "</table>\n",
       "</div>"
      ],
      "text/plain": [
       "          userId  movieId  rating\n",
       "26024279  270896    54286     4.5\n",
       "26024280  270896    54503     4.0\n",
       "26024281  270896    55820     5.0\n",
       "26024282  270896    56174     3.5\n",
       "26024283  270896    56367     4.5\n",
       "26024284  270896    58559     5.0\n",
       "26024285  270896    60069     5.0\n",
       "26024286  270896    63082     4.5\n",
       "26024287  270896    64957     4.5\n",
       "26024288  270896    71878     2.0"
      ]
     },
     "execution_count": 149,
     "metadata": {},
     "output_type": "execute_result"
    }
   ],
   "source": [
    "ratings[-10:]"
   ]
  },
  {
   "cell_type": "code",
   "execution_count": 157,
   "id": "693ea749-467b-473d-892c-32d1eb21c011",
   "metadata": {},
   "outputs": [
    {
     "data": {
      "text/plain": [
       "tag\n",
       "Interracial Friendship    1\n",
       "Punks                     1\n",
       "Sexual Slavery            1\n",
       "Glue Sniffing             1\n",
       "Abandonment               1\n",
       "Virgin                    1\n",
       "Stuttering                1\n",
       "Male Nudity               1\n",
       "Disability                1\n",
       "Gael GarcÃ?Â­a Bernal     1\n",
       "Name: count, dtype: int64"
      ]
     },
     "execution_count": 157,
     "metadata": {},
     "output_type": "execute_result"
    }
   ],
   "source": [
    "tag_counts = tags['tag'].value_counts() # This function counts the occurences\n",
    "tag_counts[-10:]"
   ]
  },
  {
   "cell_type": "code",
   "execution_count": 159,
   "id": "ffd5765c-c1f3-498a-aebb-5c684916e879",
   "metadata": {},
   "outputs": [
    {
     "data": {
      "text/plain": [
       "tag\n",
       "sci-fi                   8040\n",
       "atmospheric              5240\n",
       "action                   5065\n",
       "comedy                   4713\n",
       "based on a book          4473\n",
       "                         ... \n",
       "Virgin                      1\n",
       "Stuttering                  1\n",
       "Male Nudity                 1\n",
       "Disability                  1\n",
       "Gael GarcÃ?Â­a Bernal       1\n",
       "Name: count, Length: 53508, dtype: int64"
      ]
     },
     "execution_count": 159,
     "metadata": {},
     "output_type": "execute_result"
    }
   ],
   "source": [
    "tag_counts # this  is storing genre occurence times"
   ]
  },
  {
   "cell_type": "code",
   "execution_count": 161,
   "id": "df111464-f97f-475e-a8fc-b6c9ad804443",
   "metadata": {},
   "outputs": [],
   "source": [
    "#WE ARE PRINTING VALUES FROM 0-9 FROM THE TAG_COUNTS VARIABLE THAT STORES THEVALUES\n"
   ]
  },
  {
   "cell_type": "code",
   "execution_count": 165,
   "id": "5425af13-3aca-46d7-8aff-46b97b4bf71b",
   "metadata": {},
   "outputs": [
    {
     "data": {
      "text/plain": [
       "tag\n",
       "sci-fi             8040\n",
       "atmospheric        5240\n",
       "action             5065\n",
       "comedy             4713\n",
       "based on a book    4473\n",
       "surreal            4324\n",
       "twist ending       4073\n",
       "funny              3840\n",
       "BD-R               3420\n",
       "classic            3380\n",
       "Name: count, dtype: int64"
      ]
     },
     "execution_count": 165,
     "metadata": {},
     "output_type": "execute_result"
    }
   ],
   "source": [
    "tag_counts[:10]"
   ]
  },
  {
   "cell_type": "code",
   "execution_count": 167,
   "id": "7b0d99a7-40cc-4e5f-9c24-02d7d714e17c",
   "metadata": {},
   "outputs": [],
   "source": [
    "# IN THE ABOVE OUTPUT WE CAN SEE THE TAG NAME, AND HOW MAN TIMES IT OCCURED"
   ]
  },
  {
   "cell_type": "code",
   "execution_count": 169,
   "id": "4095cb02-fcc7-4889-94aa-3d0e75473809",
   "metadata": {},
   "outputs": [],
   "source": [
    "# NOW WE ARE PLOTTING THAT COUNT IN THE BELOW BAR GRAPH"
   ]
  },
  {
   "cell_type": "code",
   "execution_count": 171,
   "id": "2455110c-d0ac-40e3-b44c-f211c3d793a5",
   "metadata": {},
   "outputs": [
    {
     "name": "stdout",
     "output_type": "stream",
     "text": [
      "Axes(0.125,0.11;0.775x0.77)\n"
     ]
    },
    {
     "data": {
      "image/png": "[encoded data removed]",
      "text/plain": [
       "<Figure size 1000x500 with 1 Axes>"
      ]
     },
     "metadata": {},
     "output_type": "display_data"
    }
   ],
   "source": [
    "print(tag_counts[:10].plot(kind = 'bar', figsize = (10,5)))\n",
    "plt.show()"
   ]
  },
  {
   "cell_type": "code",
   "execution_count": null,
   "id": "09de4f8d-b581-4384-84a0-358b6fe2ba9f",
   "metadata": {},
   "outputs": [],
   "source": []
  }
 ],
 "metadata": {
  "kernelspec": {
   "display_name": "Python 3 (ipykernel)",
   "language": "python",
   "name": "python3"
  },
  "language_info": {
   "codemirror_mode": {
    "name": "ipython",
    "version": 3
   },
   "file_extension": ".py",
   "mimetype": "text/x-python",
   "name": "python",
   "nbconvert_exporter": "python",
   "pygments_lexer": "ipython3",
   "version": "3.12.7"
  }
 },
 "nbformat": 4,
 "nbformat_minor": 5
}
